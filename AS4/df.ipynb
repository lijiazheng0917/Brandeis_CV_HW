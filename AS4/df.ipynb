{
 "cells": [
  {
   "cell_type": "code",
   "execution_count": 13,
   "metadata": {},
   "outputs": [
    {
     "ename": "ModuleNotFoundError",
     "evalue": "No module named 'dlib'",
     "output_type": "error",
     "traceback": [
      "\u001b[0;31m---------------------------------------------------------------------------\u001b[0m",
      "\u001b[0;31mModuleNotFoundError\u001b[0m                       Traceback (most recent call last)",
      "Cell \u001b[0;32mIn [13], line 5\u001b[0m\n\u001b[1;32m      3\u001b[0m \u001b[39mimport\u001b[39;00m \u001b[39mnumpy\u001b[39;00m \u001b[39mas\u001b[39;00m \u001b[39mnp\u001b[39;00m\n\u001b[1;32m      4\u001b[0m \u001b[39mfrom\u001b[39;00m \u001b[39mtqdm\u001b[39;00m \u001b[39mimport\u001b[39;00m tqdm\n\u001b[0;32m----> 5\u001b[0m \u001b[39mimport\u001b[39;00m \u001b[39mdlib\u001b[39;00m\n",
      "\u001b[0;31mModuleNotFoundError\u001b[0m: No module named 'dlib'"
     ]
    }
   ],
   "source": [
    "from deepface import DeepFace\n",
    "import pandas as pd\n",
    "import numpy as np\n",
    "from tqdm import tqdm\n",
    "import dlib"
   ]
  },
  {
   "cell_type": "code",
   "execution_count": null,
   "metadata": {},
   "outputs": [],
   "source": []
  },
  {
   "cell_type": "code",
   "execution_count": 3,
   "metadata": {},
   "outputs": [
    {
     "data": {
      "text/html": [
       "<div>\n",
       "<style scoped>\n",
       "    .dataframe tbody tr th:only-of-type {\n",
       "        vertical-align: middle;\n",
       "    }\n",
       "\n",
       "    .dataframe tbody tr th {\n",
       "        vertical-align: top;\n",
       "    }\n",
       "\n",
       "    .dataframe thead th {\n",
       "        text-align: right;\n",
       "    }\n",
       "</style>\n",
       "<table border=\"1\" class=\"dataframe\">\n",
       "  <thead>\n",
       "    <tr style=\"text-align: right;\">\n",
       "      <th></th>\n",
       "      <th>file</th>\n",
       "      <th>age</th>\n",
       "      <th>gender</th>\n",
       "      <th>race</th>\n",
       "      <th>service_test</th>\n",
       "    </tr>\n",
       "  </thead>\n",
       "  <tbody>\n",
       "    <tr>\n",
       "      <th>0</th>\n",
       "      <td>val/1.jpg</td>\n",
       "      <td>3-9</td>\n",
       "      <td>Male</td>\n",
       "      <td>East Asian</td>\n",
       "      <td>False</td>\n",
       "    </tr>\n",
       "    <tr>\n",
       "      <th>1</th>\n",
       "      <td>val/2.jpg</td>\n",
       "      <td>50-59</td>\n",
       "      <td>Female</td>\n",
       "      <td>East Asian</td>\n",
       "      <td>True</td>\n",
       "    </tr>\n",
       "    <tr>\n",
       "      <th>2</th>\n",
       "      <td>val/3.jpg</td>\n",
       "      <td>30-39</td>\n",
       "      <td>Male</td>\n",
       "      <td>White</td>\n",
       "      <td>True</td>\n",
       "    </tr>\n",
       "    <tr>\n",
       "      <th>3</th>\n",
       "      <td>val/4.jpg</td>\n",
       "      <td>20-29</td>\n",
       "      <td>Female</td>\n",
       "      <td>Latino_Hispanic</td>\n",
       "      <td>True</td>\n",
       "    </tr>\n",
       "    <tr>\n",
       "      <th>4</th>\n",
       "      <td>val/5.jpg</td>\n",
       "      <td>20-29</td>\n",
       "      <td>Male</td>\n",
       "      <td>Southeast Asian</td>\n",
       "      <td>False</td>\n",
       "    </tr>\n",
       "  </tbody>\n",
       "</table>\n",
       "</div>"
      ],
      "text/plain": [
       "        file    age  gender             race  service_test\n",
       "0  val/1.jpg    3-9    Male       East Asian         False\n",
       "1  val/2.jpg  50-59  Female       East Asian          True\n",
       "2  val/3.jpg  30-39    Male            White          True\n",
       "3  val/4.jpg  20-29  Female  Latino_Hispanic          True\n",
       "4  val/5.jpg  20-29    Male  Southeast Asian         False"
      ]
     },
     "execution_count": 3,
     "metadata": {},
     "output_type": "execute_result"
    }
   ],
   "source": [
    "df = pd.read_csv('./fairface_label_val.csv')\n",
    "df.head()"
   ]
  },
  {
   "cell_type": "code",
   "execution_count": 4,
   "metadata": {},
   "outputs": [
    {
     "data": {
      "text/plain": [
       "array(['Black', 'East Asian', 'Indian', 'Latino_Hispanic',\n",
       "       'Middle Eastern', 'Southeast Asian', 'White'], dtype=object)"
      ]
     },
     "execution_count": 4,
     "metadata": {},
     "output_type": "execute_result"
    }
   ],
   "source": [
    "pd.get_dummies(df.race).columns.values"
   ]
  },
  {
   "cell_type": "code",
   "execution_count": 5,
   "metadata": {},
   "outputs": [],
   "source": [
    "age_dic = {'0-2':[0,2], '10-19':[10,19], '20-29':[20,29], '3-9':[3,9], '30-39':[30,39], '40-49':[40,49], '50-59':[50,59], '60-69':[60,69],\n",
    "       'more than 70':[70,1000]}\n",
    "gender_dic = {'Female':0, 'Male':1}\n",
    "race_dic = {'Black':0, 'East Asian':1, 'Indian':2, 'Latino_Hispanic':3,\n",
    "       'Middle Eastern':4, 'Southeast Asian':5, 'White':6}"
   ]
  },
  {
   "cell_type": "code",
   "execution_count": 6,
   "metadata": {},
   "outputs": [],
   "source": [
    "all_results = np.zeros((len(gender_dic),len(race_dic)))\n",
    "correct_results = np.zeros((len(gender_dic),len(race_dic)))\n",
    "not_dect_results = np.zeros((len(gender_dic),len(race_dic)))"
   ]
  },
  {
   "cell_type": "code",
   "execution_count": 11,
   "metadata": {},
   "outputs": [
    {
     "ename": "ModuleNotFoundError",
     "evalue": "No module named 'dlib'",
     "output_type": "error",
     "traceback": [
      "\u001b[0;31m---------------------------------------------------------------------------\u001b[0m",
      "\u001b[0;31mModuleNotFoundError\u001b[0m                       Traceback (most recent call last)",
      "Cell \u001b[0;32mIn [11], line 1\u001b[0m\n\u001b[0;32m----> 1\u001b[0m objs \u001b[39m=\u001b[39m DeepFace\u001b[39m.\u001b[39;49manalyze(img_path \u001b[39m=\u001b[39;49m df\u001b[39m.\u001b[39;49miloc[\u001b[39m0\u001b[39;49m]\u001b[39m.\u001b[39;49mfile, \n\u001b[1;32m      2\u001b[0m             actions \u001b[39m=\u001b[39;49m [\u001b[39m'\u001b[39;49m\u001b[39mage\u001b[39;49m\u001b[39m'\u001b[39;49m], detector_backend \u001b[39m=\u001b[39;49m backends[\u001b[39m2\u001b[39;49m]\n\u001b[1;32m      3\u001b[0m         )\n",
      "File \u001b[0;32m~/anaconda3/envs/pt/lib/python3.9/site-packages/deepface/DeepFace.py:313\u001b[0m, in \u001b[0;36manalyze\u001b[0;34m(img_path, actions, enforce_detection, detector_backend, align, silent)\u001b[0m\n\u001b[1;32m    310\u001b[0m \u001b[39m# ---------------------------------\u001b[39;00m\n\u001b[1;32m    311\u001b[0m resp_objects \u001b[39m=\u001b[39m []\n\u001b[0;32m--> 313\u001b[0m img_objs \u001b[39m=\u001b[39m functions\u001b[39m.\u001b[39;49mextract_faces(\n\u001b[1;32m    314\u001b[0m     img\u001b[39m=\u001b[39;49mimg_path,\n\u001b[1;32m    315\u001b[0m     target_size\u001b[39m=\u001b[39;49m(\u001b[39m224\u001b[39;49m, \u001b[39m224\u001b[39;49m),\n\u001b[1;32m    316\u001b[0m     detector_backend\u001b[39m=\u001b[39;49mdetector_backend,\n\u001b[1;32m    317\u001b[0m     grayscale\u001b[39m=\u001b[39;49m\u001b[39mFalse\u001b[39;49;00m,\n\u001b[1;32m    318\u001b[0m     enforce_detection\u001b[39m=\u001b[39;49menforce_detection,\n\u001b[1;32m    319\u001b[0m     align\u001b[39m=\u001b[39;49malign,\n\u001b[1;32m    320\u001b[0m )\n\u001b[1;32m    322\u001b[0m \u001b[39mfor\u001b[39;00m img_content, img_region, _ \u001b[39min\u001b[39;00m img_objs:\n\u001b[1;32m    323\u001b[0m     \u001b[39mif\u001b[39;00m img_content\u001b[39m.\u001b[39mshape[\u001b[39m0\u001b[39m] \u001b[39m>\u001b[39m \u001b[39m0\u001b[39m \u001b[39mand\u001b[39;00m img_content\u001b[39m.\u001b[39mshape[\u001b[39m1\u001b[39m] \u001b[39m>\u001b[39m \u001b[39m0\u001b[39m:\n",
      "File \u001b[0;32m~/anaconda3/envs/pt/lib/python3.9/site-packages/deepface/commons/functions.py:110\u001b[0m, in \u001b[0;36mextract_faces\u001b[0;34m(img, target_size, detector_backend, grayscale, enforce_detection, align)\u001b[0m\n\u001b[1;32m    108\u001b[0m     face_objs \u001b[39m=\u001b[39m [(img, img_region, \u001b[39m0\u001b[39m)]\n\u001b[1;32m    109\u001b[0m \u001b[39melse\u001b[39;00m:\n\u001b[0;32m--> 110\u001b[0m     face_detector \u001b[39m=\u001b[39m FaceDetector\u001b[39m.\u001b[39;49mbuild_model(detector_backend)\n\u001b[1;32m    111\u001b[0m     face_objs \u001b[39m=\u001b[39m FaceDetector\u001b[39m.\u001b[39mdetect_faces(face_detector, detector_backend, img, align)\n\u001b[1;32m    113\u001b[0m \u001b[39m# in case of no face found\u001b[39;00m\n",
      "File \u001b[0;32m~/anaconda3/envs/pt/lib/python3.9/site-packages/deepface/detectors/FaceDetector.py:36\u001b[0m, in \u001b[0;36mbuild_model\u001b[0;34m(detector_backend)\u001b[0m\n\u001b[1;32m     33\u001b[0m face_detector \u001b[39m=\u001b[39m backends\u001b[39m.\u001b[39mget(detector_backend)\n\u001b[1;32m     35\u001b[0m \u001b[39mif\u001b[39;00m face_detector:\n\u001b[0;32m---> 36\u001b[0m     face_detector \u001b[39m=\u001b[39m face_detector()\n\u001b[1;32m     37\u001b[0m     face_detector_obj[detector_backend] \u001b[39m=\u001b[39m face_detector\n\u001b[1;32m     38\u001b[0m \u001b[39melse\u001b[39;00m:\n",
      "File \u001b[0;32m~/anaconda3/envs/pt/lib/python3.9/site-packages/deepface/detectors/DlibWrapper.py:11\u001b[0m, in \u001b[0;36mbuild_model\u001b[0;34m()\u001b[0m\n\u001b[1;32m      7\u001b[0m \u001b[39mdef\u001b[39;00m \u001b[39mbuild_model\u001b[39m():\n\u001b[1;32m      9\u001b[0m     home \u001b[39m=\u001b[39m functions\u001b[39m.\u001b[39mget_deepface_home()\n\u001b[0;32m---> 11\u001b[0m     \u001b[39mimport\u001b[39;00m \u001b[39mdlib\u001b[39;00m  \u001b[39m# this requirement is not a must that's why imported here\u001b[39;00m\n\u001b[1;32m     13\u001b[0m     \u001b[39m# check required file exists in the home/.deepface/weights folder\u001b[39;00m\n\u001b[1;32m     14\u001b[0m     \u001b[39mif\u001b[39;00m os\u001b[39m.\u001b[39mpath\u001b[39m.\u001b[39misfile(home \u001b[39m+\u001b[39m \u001b[39m\"\u001b[39m\u001b[39m/.deepface/weights/shape_predictor_5_face_landmarks.dat\u001b[39m\u001b[39m\"\u001b[39m) \u001b[39m!=\u001b[39m \u001b[39mTrue\u001b[39;00m:\n",
      "\u001b[0;31mModuleNotFoundError\u001b[0m: No module named 'dlib'"
     ]
    }
   ],
   "source": [
    "objs = DeepFace.analyze(img_path = df.iloc[0].file, \n",
    "            actions = ['age'], detector_backend = backends[2]\n",
    "        )"
   ]
  },
  {
   "cell_type": "code",
   "execution_count": 18,
   "metadata": {},
   "outputs": [
    {
     "name": "stderr",
     "output_type": "stream",
     "text": [
      "  0%|          | 0/10954 [00:00<?, ?it/s]"
     ]
    },
    {
     "name": "stdout",
     "output_type": "stream",
     "text": [
      "retinaface.h5 will be downloaded from the url https://github.com/serengil/deepface_models/releases/download/v1.0/retinaface.h5\n"
     ]
    },
    {
     "name": "stderr",
     "output_type": "stream",
     "text": [
      "Downloading...\n",
      "From: https://github.com/serengil/deepface_models/releases/download/v1.0/retinaface.h5\n",
      "To: /home/jiazhengli/.deepface/weights/retinaface.h5\n",
      "100%|██████████| 119M/119M [00:07<00:00, 15.2MB/s]\n",
      "Action: age: 100%|██████████| 1/1 [00:00<00:00, 26.90it/s]\n",
      "Action: age: 100%|██████████| 1/1 [00:00<00:00, 24.06it/s]\n",
      "Action: age: 100%|██████████| 1/1 [00:00<00:00, 27.26it/s]\n",
      "Action: age: 100%|██████████| 1/1 [00:00<00:00, 22.70it/s]\n",
      "Action: age: 100%|██████████| 1/1 [00:00<00:00, 27.69it/s]\n",
      "Action: age: 100%|██████████| 1/1 [00:00<00:00, 27.38it/s]\n",
      "Action: age: 100%|██████████| 1/1 [00:00<00:00, 25.67it/s]\n",
      "Action: age: 100%|██████████| 1/1 [00:00<00:00, 27.00it/s]\n",
      "Action: age: 100%|██████████| 1/1 [00:00<00:00, 27.10it/s]\n",
      "Action: age: 100%|██████████| 1/1 [00:00<00:00, 21.85it/s]\n",
      "Action: age: 100%|██████████| 1/1 [00:00<00:00, 24.44it/s]\n",
      "Action: age: 100%|██████████| 1/1 [00:00<00:00, 24.63it/s]\n",
      "Action: age: 100%|██████████| 1/1 [00:00<00:00, 23.63it/s]\n",
      "Action: age: 100%|██████████| 1/1 [00:00<00:00, 26.50it/s]\n",
      "Action: age: 100%|██████████| 1/1 [00:00<00:00, 25.91it/s]\n",
      "Action: age: 100%|██████████| 1/1 [00:00<00:00, 27.89it/s]\n",
      "Action: age: 100%|██████████| 1/1 [00:00<00:00, 26.64it/s]\n",
      "Action: age: 100%|██████████| 1/1 [00:00<00:00, 26.64it/s]\n",
      "Action: age: 100%|██████████| 1/1 [00:00<00:00, 27.35it/s]\n",
      "Action: age: 100%|██████████| 1/1 [00:00<00:00, 24.20it/s]\n",
      "Action: age: 100%|██████████| 1/1 [00:00<00:00, 26.40it/s]\n",
      "Action: age: 100%|██████████| 1/1 [00:00<00:00, 25.46it/s]\n",
      "Action: age: 100%|██████████| 1/1 [00:00<00:00, 25.43it/s]\n",
      "Action: age: 100%|██████████| 1/1 [00:00<00:00, 27.56it/s]\n",
      "Action: age: 100%|██████████| 1/1 [00:00<00:00, 27.73it/s]\n",
      "Action: age: 100%|██████████| 1/1 [00:00<00:00, 26.25it/s]\n",
      "Action: age: 100%|██████████| 1/1 [00:00<00:00, 24.07it/s]\n",
      "Action: age: 100%|██████████| 1/1 [00:00<00:00, 23.96it/s]\n",
      "Action: age: 100%|██████████| 1/1 [00:00<00:00, 23.59it/s]\n",
      "Action: age: 100%|██████████| 1/1 [00:00<00:00, 24.69it/s]\n",
      "Action: age: 100%|██████████| 1/1 [00:00<00:00, 27.54it/s]\n",
      "Action: age: 100%|██████████| 1/1 [00:00<00:00, 27.38it/s]\n",
      "Action: age: 100%|██████████| 1/1 [00:00<00:00, 27.45it/s]\n",
      "Action: age: 100%|██████████| 1/1 [00:00<00:00, 26.27it/s]\n",
      "Action: age: 100%|██████████| 1/1 [00:00<00:00, 26.88it/s]\n",
      "Action: age: 100%|██████████| 1/1 [00:00<00:00, 26.64it/s]\n",
      "Action: age: 100%|██████████| 1/1 [00:00<00:00, 23.33it/s]\n",
      "Action: age: 100%|██████████| 1/1 [00:00<00:00, 27.19it/s]\n",
      "Action: age: 100%|██████████| 1/1 [00:00<00:00, 26.20it/s]\n",
      "Action: age: 100%|██████████| 1/1 [00:00<00:00, 26.85it/s]\n",
      "Action: age: 100%|██████████| 1/1 [00:00<00:00, 26.08it/s]\n",
      "Action: age: 100%|██████████| 1/1 [00:00<00:00, 26.93it/s]\n",
      "Action: age: 100%|██████████| 1/1 [00:00<00:00, 25.01it/s]\n",
      "Action: age: 100%|██████████| 1/1 [00:00<00:00, 27.12it/s]\n",
      "Action: age: 100%|██████████| 1/1 [00:00<00:00, 24.73it/s]\n",
      "Action: age: 100%|██████████| 1/1 [00:00<00:00, 24.46it/s]\n",
      "Action: age: 100%|██████████| 1/1 [00:00<00:00, 25.89it/s]\n",
      "Action: age: 100%|██████████| 1/1 [00:00<00:00, 24.77it/s]\n",
      "Action: age: 100%|██████████| 1/1 [00:00<00:00, 27.46it/s]\n",
      "Action: age: 100%|██████████| 1/1 [00:00<00:00, 25.84it/s]\n",
      "Action: age: 100%|██████████| 1/1 [00:00<00:00, 26.62it/s]\n",
      "Action: age: 100%|██████████| 1/1 [00:00<00:00, 27.24it/s]\n",
      "Action: age: 100%|██████████| 1/1 [00:00<00:00, 25.35it/s]\n",
      "Action: age: 100%|██████████| 1/1 [00:00<00:00, 24.74it/s]\n",
      "Action: age: 100%|██████████| 1/1 [00:00<00:00, 26.94it/s]\n",
      "Action: age: 100%|██████████| 1/1 [00:00<00:00, 25.42it/s]\n",
      "Action: age: 100%|██████████| 1/1 [00:00<00:00, 23.86it/s]\n",
      "Action: age: 100%|██████████| 1/1 [00:00<00:00, 27.44it/s]\n",
      "Action: age: 100%|██████████| 1/1 [00:00<00:00, 26.80it/s]\n",
      "Action: age: 100%|██████████| 1/1 [00:00<00:00, 27.21it/s]\n",
      "Action: age: 100%|██████████| 1/1 [00:00<00:00, 27.47it/s]\n",
      "Action: age: 100%|██████████| 1/1 [00:00<00:00, 20.33it/s]\n",
      "Action: age: 100%|██████████| 1/1 [00:00<00:00, 26.45it/s]\n",
      "Action: age: 100%|██████████| 1/1 [00:00<00:00, 26.24it/s]\n",
      "Action: age: 100%|██████████| 1/1 [00:00<00:00, 23.55it/s]\n",
      "Action: age: 100%|██████████| 1/1 [00:00<00:00, 26.76it/s]\n",
      "Action: age: 100%|██████████| 1/1 [00:00<00:00, 26.17it/s]\n",
      "Action: age: 100%|██████████| 1/1 [00:00<00:00, 25.58it/s]\n",
      "Action: age: 100%|██████████| 1/1 [00:00<00:00, 25.81it/s]\n",
      "Action: age: 100%|██████████| 1/1 [00:00<00:00, 26.55it/s]\n",
      "Action: age: 100%|██████████| 1/1 [00:00<00:00, 22.32it/s]\n",
      "Action: age: 100%|██████████| 1/1 [00:00<00:00, 24.41it/s]\n",
      "Action: age: 100%|██████████| 1/1 [00:00<00:00, 26.61it/s]\n",
      "Action: age: 100%|██████████| 1/1 [00:00<00:00, 27.07it/s]\n",
      "Action: age: 100%|██████████| 1/1 [00:00<00:00, 23.93it/s]\n",
      "Action: age: 100%|██████████| 1/1 [00:00<00:00, 26.09it/s]\n",
      "Action: age: 100%|██████████| 1/1 [00:00<00:00, 27.65it/s]\n",
      "Action: age: 100%|██████████| 1/1 [00:00<00:00, 26.95it/s]\n",
      "Action: age: 100%|██████████| 1/1 [00:00<00:00, 27.87it/s]\n",
      "Action: age: 100%|██████████| 1/1 [00:00<00:00, 21.65it/s]\n",
      "Action: age: 100%|██████████| 1/1 [00:00<00:00, 23.97it/s]\n",
      "Action: age: 100%|██████████| 1/1 [00:00<00:00, 22.74it/s]\n",
      "Action: age: 100%|██████████| 1/1 [00:00<00:00, 24.51it/s]\n",
      "Action: age: 100%|██████████| 1/1 [00:00<00:00, 27.86it/s]\n",
      "Action: age: 100%|██████████| 1/1 [00:00<00:00, 25.14it/s]\n",
      "Action: age: 100%|██████████| 1/1 [00:00<00:00, 26.97it/s]\n",
      "Action: age: 100%|██████████| 1/1 [00:00<00:00, 24.71it/s]\n",
      "Action: age: 100%|██████████| 1/1 [00:00<00:00, 25.36it/s]\n",
      "Action: age: 100%|██████████| 1/1 [00:00<00:00, 19.86it/s]\n",
      "Action: age: 100%|██████████| 1/1 [00:00<00:00, 16.23it/s]\n",
      "Action: age: 100%|██████████| 1/1 [00:00<00:00, 24.56it/s]\n",
      "Action: age: 100%|██████████| 1/1 [00:00<00:00, 22.77it/s]\n",
      "Action: age: 100%|██████████| 1/1 [00:00<00:00, 17.64it/s]\n",
      "Action: age: 100%|██████████| 1/1 [00:00<00:00, 27.46it/s]\n",
      "Action: age: 100%|██████████| 1/1 [00:00<00:00, 27.24it/s]\n",
      "Action: age: 100%|██████████| 1/1 [00:00<00:00, 27.12it/s]\n",
      "Action: age: 100%|██████████| 1/1 [00:00<00:00, 26.77it/s]\n",
      "Action: age: 100%|██████████| 1/1 [00:00<00:00, 23.23it/s]\n",
      "Action: age: 100%|██████████| 1/1 [00:00<00:00, 27.34it/s]\n",
      "Action: age: 100%|██████████| 1/1 [00:00<00:00, 25.06it/s]\n",
      "Action: age: 100%|██████████| 1/1 [00:00<00:00, 26.00it/s]\n",
      "Action: age: 100%|██████████| 1/1 [00:00<00:00, 27.44it/s]\n",
      "Action: age: 100%|██████████| 1/1 [00:00<00:00, 27.52it/s]\n",
      "Action: age: 100%|██████████| 1/1 [00:00<00:00, 27.53it/s]\n",
      "Action: age: 100%|██████████| 1/1 [00:00<00:00, 23.64it/s]\n",
      "Action: age: 100%|██████████| 1/1 [00:00<00:00, 25.30it/s]\n",
      "Action: age: 100%|██████████| 1/1 [00:00<00:00, 24.66it/s]\n",
      "Action: age: 100%|██████████| 1/1 [00:00<00:00, 27.51it/s]\n",
      "Action: age: 100%|██████████| 1/1 [00:00<00:00, 26.68it/s]\n",
      "Action: age: 100%|██████████| 1/1 [00:00<00:00, 27.53it/s]\n",
      "Action: age: 100%|██████████| 1/1 [00:00<00:00, 26.14it/s]\n",
      "Action: age: 100%|██████████| 1/1 [00:00<00:00, 20.86it/s]\n",
      "Action: age: 100%|██████████| 1/1 [00:00<00:00, 25.25it/s]\n",
      "Action: age: 100%|██████████| 1/1 [00:00<00:00, 27.48it/s]\n",
      "Action: age: 100%|██████████| 1/1 [00:00<00:00, 27.39it/s]\n",
      "Action: age: 100%|██████████| 1/1 [00:00<00:00, 24.42it/s]\n",
      "Action: age: 100%|██████████| 1/1 [00:00<00:00, 25.62it/s]\n",
      "Action: age: 100%|██████████| 1/1 [00:00<00:00, 24.40it/s]\n",
      "Action: age: 100%|██████████| 1/1 [00:00<00:00, 22.38it/s]\n",
      "Action: age: 100%|██████████| 1/1 [00:00<00:00, 23.10it/s]\n",
      "Action: age: 100%|██████████| 1/1 [00:00<00:00, 28.03it/s]\n",
      "Action: age: 100%|██████████| 1/1 [00:00<00:00, 26.65it/s]\n",
      "Action: age: 100%|██████████| 1/1 [00:00<00:00, 27.05it/s]\n",
      "Action: age: 100%|██████████| 1/1 [00:00<00:00, 27.18it/s]\n",
      "Action: age: 100%|██████████| 1/1 [00:00<00:00, 24.85it/s]\n",
      "Action: age: 100%|██████████| 1/1 [00:00<00:00, 26.27it/s]\n",
      "Action: age: 100%|██████████| 1/1 [00:00<00:00, 24.92it/s]\n",
      "Action: age: 100%|██████████| 1/1 [00:00<00:00, 27.11it/s]\n",
      "Action: age: 100%|██████████| 1/1 [00:00<00:00, 27.22it/s]\n",
      "Action: age: 100%|██████████| 1/1 [00:00<00:00, 26.98it/s]\n",
      "Action: age: 100%|██████████| 1/1 [00:00<00:00, 25.58it/s]\n",
      "Action: age: 100%|██████████| 1/1 [00:00<00:00, 19.92it/s]\n",
      "Action: age: 100%|██████████| 1/1 [00:00<00:00, 24.87it/s]\n",
      "Action: age: 100%|██████████| 1/1 [00:00<00:00, 24.63it/s]\n",
      "Action: age: 100%|██████████| 1/1 [00:00<00:00, 26.94it/s]\n",
      "Action: age: 100%|██████████| 1/1 [00:00<00:00, 27.05it/s]\n",
      "Action: age: 100%|██████████| 1/1 [00:00<00:00, 23.07it/s]\n",
      "Action: age: 100%|██████████| 1/1 [00:00<00:00, 26.46it/s]\n",
      "Action: age: 100%|██████████| 1/1 [00:00<00:00, 22.00it/s]\n",
      "Action: age: 100%|██████████| 1/1 [00:00<00:00, 23.54it/s]\n",
      "Action: age: 100%|██████████| 1/1 [00:00<00:00, 27.20it/s]\n",
      "Action: age: 100%|██████████| 1/1 [00:00<00:00, 22.68it/s]\n",
      "Action: age: 100%|██████████| 1/1 [00:00<00:00, 25.01it/s]\n",
      "Action: age: 100%|██████████| 1/1 [00:00<00:00, 26.48it/s]\n",
      "Action: age: 100%|██████████| 1/1 [00:00<00:00, 26.37it/s]\n",
      "Action: age: 100%|██████████| 1/1 [00:00<00:00, 27.21it/s]\n",
      "Action: age: 100%|██████████| 1/1 [00:00<00:00, 27.20it/s]\n",
      "Action: age: 100%|██████████| 1/1 [00:00<00:00, 27.24it/s]\n",
      "Action: age: 100%|██████████| 1/1 [00:00<00:00, 27.57it/s]\n",
      "Action: age: 100%|██████████| 1/1 [00:00<00:00, 14.44it/s]\n",
      "Action: age: 100%|██████████| 1/1 [00:00<00:00, 24.95it/s]\n",
      "Action: age: 100%|██████████| 1/1 [00:00<00:00, 25.32it/s]\n",
      "Action: age: 100%|██████████| 1/1 [00:00<00:00, 26.22it/s]\n",
      "Action: age: 100%|██████████| 1/1 [00:00<00:00, 27.15it/s]\n",
      "Action: age: 100%|██████████| 1/1 [00:00<00:00, 27.93it/s]\n",
      "Action: age: 100%|██████████| 1/1 [00:00<00:00, 23.40it/s]\n",
      "Action: age: 100%|██████████| 1/1 [00:00<00:00, 26.17it/s]\n",
      "Action: age: 100%|██████████| 1/1 [00:00<00:00, 27.68it/s]\n",
      "Action: age: 100%|██████████| 1/1 [00:00<00:00, 27.67it/s]\n",
      "Action: age: 100%|██████████| 1/1 [00:00<00:00, 22.68it/s]\n",
      "Action: age: 100%|██████████| 1/1 [00:00<00:00, 26.78it/s]\n",
      "Action: age: 100%|██████████| 1/1 [00:00<00:00, 19.79it/s]\n",
      "Action: age: 100%|██████████| 1/1 [00:00<00:00, 23.68it/s]\n",
      "Action: age: 100%|██████████| 1/1 [00:00<00:00, 25.84it/s]\n",
      "Action: age: 100%|██████████| 1/1 [00:00<00:00, 27.44it/s]\n",
      "Action: age: 100%|██████████| 1/1 [00:00<00:00, 27.47it/s]\n",
      "Action: age: 100%|██████████| 1/1 [00:00<00:00, 26.86it/s]\n",
      "Action: age: 100%|██████████| 1/1 [00:00<00:00, 27.48it/s]\n",
      "Action: age: 100%|██████████| 1/1 [00:00<00:00, 24.40it/s]\n",
      "Action: age: 100%|██████████| 1/1 [00:00<00:00, 25.19it/s]\n",
      "Action: age: 100%|██████████| 1/1 [00:00<00:00, 26.39it/s]\n",
      "Action: age: 100%|██████████| 1/1 [00:00<00:00, 27.50it/s]\n",
      "Action: age: 100%|██████████| 1/1 [00:00<00:00, 23.85it/s]\n",
      "Action: age: 100%|██████████| 1/1 [00:00<00:00, 18.60it/s]\n",
      "Action: age: 100%|██████████| 1/1 [00:00<00:00, 27.71it/s]\n",
      " 12%|█▏        | 1306/10954 [01:10<07:38, 21.04it/s]"
     ]
    }
   ],
   "source": [
    "backends = [\n",
    "  'opencv', \n",
    "  'ssd', \n",
    "  'dlib', \n",
    "  'mtcnn', \n",
    "  'retinaface', \n",
    "  'mediapipe'\n",
    "]\n",
    "\n",
    "for i in tqdm(range(len(df))):\n",
    "    img = df.iloc[i].file\n",
    "    true_age = df.iloc[i].age\n",
    "    min_age, max_age = age_dic[true_age]\n",
    "    gender = gender_dic[df.iloc[i].gender]\n",
    "    race = race_dic[df.iloc[i].race]\n",
    "    try:\n",
    "        objs = DeepFace.analyze(img_path = df.iloc[i].file, \n",
    "            actions = ['age'], detector_backend = backends[4]\n",
    "        )\n",
    "        pred_age = objs[0]['age']\n",
    "        if min_age < pred_age < max_age:\n",
    "            correct_results[gender,race] += 1\n",
    "        all_results[gender,race] += 1\n",
    "    except:\n",
    "        not_dect_results[gender,race] += 1\n"
   ]
  },
  {
   "cell_type": "code",
   "execution_count": 15,
   "metadata": {},
   "outputs": [
    {
     "data": {
      "text/plain": [
       "array([[2., 1., 2., 1., 0., 1., 3.],\n",
       "       [0., 1., 0., 0., 4., 0., 1.]])"
      ]
     },
     "execution_count": 15,
     "metadata": {},
     "output_type": "execute_result"
    }
   ],
   "source": [
    "correct_results"
   ]
  },
  {
   "cell_type": "code",
   "execution_count": 16,
   "metadata": {},
   "outputs": [
    {
     "data": {
      "text/plain": [
       "array([[ 7.,  8.,  4.,  5.,  1.,  5., 10.],\n",
       "       [ 4., 10.,  5., 10.,  6.,  8., 12.]])"
      ]
     },
     "execution_count": 16,
     "metadata": {},
     "output_type": "execute_result"
    }
   ],
   "source": [
    "all_results"
   ]
  },
  {
   "cell_type": "code",
   "execution_count": 17,
   "metadata": {},
   "outputs": [
    {
     "data": {
      "text/plain": [
       "array([[1507., 1538., 1522., 1655.,  791., 1355., 1916.],\n",
       "       [1594., 1544., 1501., 1576., 1620., 1462., 2232.]])"
      ]
     },
     "execution_count": 17,
     "metadata": {},
     "output_type": "execute_result"
    }
   ],
   "source": [
    "not_dect_results"
   ]
  },
  {
   "cell_type": "code",
   "execution_count": 16,
   "metadata": {},
   "outputs": [],
   "source": [
    "acc = correct_results / all_results"
   ]
  },
  {
   "cell_type": "code",
   "execution_count": 17,
   "metadata": {},
   "outputs": [
    {
     "data": {
      "text/plain": [
       "array([[0.22680412, 0.26453488, 0.23692308, 0.19553073, 0.25153374,\n",
       "        0.2260274 , 0.28448276],\n",
       "       [0.18518519, 0.32093023, 0.26027397, 0.21176471, 0.26794258,\n",
       "        0.27947598, 0.24414716]])"
      ]
     },
     "execution_count": 17,
     "metadata": {},
     "output_type": "execute_result"
    }
   ],
   "source": [
    "acc"
   ]
  },
  {
   "cell_type": "code",
   "execution_count": 19,
   "metadata": {},
   "outputs": [
    {
     "data": {
      "text/plain": [
       "array([0.20599465, 0.29273256, 0.24859852, 0.20364772, 0.25973816,\n",
       "       0.25275169, 0.26431496])"
      ]
     },
     "execution_count": 19,
     "metadata": {},
     "output_type": "execute_result"
    }
   ],
   "source": [
    "np.mean(acc, axis=0)"
   ]
  },
  {
   "cell_type": "code",
   "execution_count": 20,
   "metadata": {},
   "outputs": [
    {
     "data": {
      "text/plain": [
       "0.029640267755986088"
      ]
     },
     "execution_count": 20,
     "metadata": {},
     "output_type": "execute_result"
    }
   ],
   "source": [
    "np.std(np.mean(acc, axis=0))"
   ]
  },
  {
   "cell_type": "code",
   "execution_count": 27,
   "metadata": {},
   "outputs": [
    {
     "data": {
      "text/plain": [
       "0.2388043906446185"
      ]
     },
     "execution_count": 27,
     "metadata": {},
     "output_type": "execute_result"
    }
   ],
   "source": [
    "np.log10((np.max(acc) / np.min(acc)))"
   ]
  },
  {
   "cell_type": "code",
   "execution_count": null,
   "metadata": {},
   "outputs": [],
   "source": []
  }
 ],
 "metadata": {
  "kernelspec": {
   "display_name": "pt",
   "language": "python",
   "name": "python3"
  },
  "language_info": {
   "codemirror_mode": {
    "name": "ipython",
    "version": 3
   },
   "file_extension": ".py",
   "mimetype": "text/x-python",
   "name": "python",
   "nbconvert_exporter": "python",
   "pygments_lexer": "ipython3",
   "version": "3.9.15"
  },
  "orig_nbformat": 4,
  "vscode": {
   "interpreter": {
    "hash": "55bda1b7df90b08c6cf1f6311494e58e017df1e2a9c0703d9808f934a770372c"
   }
  }
 },
 "nbformat": 4,
 "nbformat_minor": 2
}
